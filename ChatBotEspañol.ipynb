{
  "nbformat": 4,
  "nbformat_minor": 0,
  "metadata": {
    "colab": {
      "name": "ChatBotEspañol.ipynb",
      "provenance": [],
      "collapsed_sections": []
    },
    "kernelspec": {
      "name": "python3",
      "display_name": "Python 3"
    },
    "accelerator": "GPU"
  },
  "cells": [
    {
      "cell_type": "markdown",
      "metadata": {
        "id": "AdN_3uEpTfwf"
      },
      "source": [
        "#ChatBot en Español \n",
        "Con **\"Soft-Attention\"** de Bahdanau: https://arxiv.org/pdf/1409.0473.pdf\n",
        "\n",
        "Autor: Mario Xavier Canche Uc, mario.canche@cimat.mx\n",
        "\n",
        "Basado en: https://medium.com/@ruben_onelove/como-hacer-un-chatbot-en-espa%C3%B1ol-y-que-te-trolee-en-el-intento-2a8105d66de8"
      ]
    },
    {
      "cell_type": "markdown",
      "metadata": {
        "id": "bE4schF8T1al"
      },
      "source": [
        "## Montamos la carpeta del proyecto en Drive"
      ]
    },
    {
      "cell_type": "code",
      "metadata": {
        "id": "Og7poCKdUHOI",
        "colab": {
          "base_uri": "https://localhost:8080/"
        },
        "outputId": "db6b75f5-42a0-400d-9afb-18bcbfd4be2e"
      },
      "source": [
        "# Montamos el Drive al Notebook\n",
        "from google.colab import drive\n",
        "drive.mount('/content/drive', force_remount=True)"
      ],
      "execution_count": null,
      "outputs": [
        {
          "output_type": "stream",
          "text": [
            "Mounted at /content/drive\n"
          ],
          "name": "stdout"
        }
      ]
    },
    {
      "cell_type": "code",
      "metadata": {
        "id": "tvoB-Rg9UHRf",
        "colab": {
          "base_uri": "https://localhost:8080/"
        },
        "outputId": "65aafba6-17ef-4e2e-d0e2-7e079bcc9525"
      },
      "source": [
        "# Verificamos el directorio en el que nos encontramos\n",
        "!pwd\n",
        "!ls"
      ],
      "execution_count": null,
      "outputs": [
        {
          "output_type": "stream",
          "text": [
            "/content\n",
            "drive  sample_data\n"
          ],
          "name": "stdout"
        }
      ]
    },
    {
      "cell_type": "code",
      "metadata": {
        "id": "I9ZpV3k_UHUZ",
        "colab": {
          "base_uri": "https://localhost:8080/"
        },
        "outputId": "0d746fb8-55e2-4afa-8b37-47a5f2b361d4"
      },
      "source": [
        "# Cambiamos de directorio al Drive\n",
        "import os\n",
        "os.chdir(\"drive/My Drive/Tarea02_MarioXavierCancheUc/chatbot\")\n",
        "!ls"
      ],
      "execution_count": null,
      "outputs": [
        {
          "output_type": "stream",
          "text": [
            "data\t\t\t\t\t  pre_processing.py  settings.py\n",
            "MarioXavierCancheUc_ChatBotEspañol.ipynb  __pycache__\n"
          ],
          "name": "stdout"
        }
      ]
    },
    {
      "cell_type": "code",
      "metadata": {
        "id": "P2KS-EUDD8hT"
      },
      "source": [
        ""
      ],
      "execution_count": null,
      "outputs": []
    },
    {
      "cell_type": "code",
      "metadata": {
        "id": "7qWNNu6nD8wf"
      },
      "source": [
        "# Descargamos el DataSet\n",
        "##! pip install wget\n",
        "\n",
        "##import wget\n",
        "\n",
        "##url = \"http://opus.nlpl.eu/download.php?f=OpenSubtitles/v2018/mono/OpenSubtitles.raw.es.gz\"\n",
        "\n",
        "##print(\"Descargando dataset...\")\n",
        "##wget.download(url, 'data/OpenSubtitles.raw.es.gz')"
      ],
      "execution_count": null,
      "outputs": []
    },
    {
      "cell_type": "code",
      "metadata": {
        "id": "Qxa2ip9TPyIT"
      },
      "source": [
        "# Descomprimimos el archivo descargado\n",
        "##import gzip\n",
        "##import shutil\n",
        "##with gzip.open('data/OpenSubtitles.raw.es.gz', 'rb') as f_in:\n",
        "##    with open('data/es.txt', 'wb') as f_out:\n",
        "##        shutil.copyfileobj(f_in, f_out)"
      ],
      "execution_count": null,
      "outputs": []
    },
    {
      "cell_type": "code",
      "metadata": {
        "id": "LSJ0d5wDYJky",
        "colab": {
          "base_uri": "https://localhost:8080/"
        },
        "outputId": "f4ae8119-0c61-40e5-8a00-3028d1cc78a5"
      },
      "source": [
        "# Verificamos que se descomprimiera correctamente\n",
        "!head data/es.txt"
      ],
      "execution_count": null,
      "outputs": [
        {
          "output_type": "stream",
          "text": [
            "NETKonet trae para ti...\n",
            "\"Twenty\"\n",
            "[NEW Presenta]\n",
            "[Una producción de A M Tree Pictures]\n",
            "[Sidus HQ]\n",
            "[Productor ejecutivo:\n",
            "Kim Woo Taek]\n",
            "Somos los típicos amigos de la secundaria que juraron que su amistad duraría para siempre.\n",
            "Aunque las circunstancias del inicio de nuestra amistad no fueron especiales en cierto modo fueron especiales para nosotros.\n",
            "Ejem... ejem.\n"
          ],
          "name": "stdout"
        }
      ]
    },
    {
      "cell_type": "code",
      "metadata": {
        "id": "yLwtC3rwMo2T"
      },
      "source": [
        ""
      ],
      "execution_count": null,
      "outputs": []
    },
    {
      "cell_type": "markdown",
      "metadata": {
        "id": "iwEMWSN1VVSH"
      },
      "source": [
        "## Preprocesamos los Datos"
      ]
    },
    {
      "cell_type": "code",
      "metadata": {
        "id": "5DUcKbjXTgK7"
      },
      "source": [
        "import re\n",
        "import numpy as np\n",
        "import matplotlib.pyplot as plt\n",
        "import random, itertools, pickle\n",
        "from settings import *"
      ],
      "execution_count": null,
      "outputs": []
    },
    {
      "cell_type": "code",
      "metadata": {
        "id": "HjqTO-dfVPOh",
        "colab": {
          "base_uri": "https://localhost:8080/",
          "height": 36
        },
        "outputId": "d66cc16d-4674-4e09-e7a8-22e9c22b1177"
      },
      "source": [
        "#resumen del proceso\n",
        "#1 cargar todas diccionario con line index y sentence\n",
        "#2 elminiar las mas largas de 50\n",
        "#3 añadir las palabras al vocabulario\n",
        "#4 eliminar las sentence con palabras que no salen\n",
        "#5 pasar los pares con line index contiguos\n",
        "\n",
        "# n_lines = 0\n",
        "# n_tokens = 0\n",
        "# with open(corpus, 'rb') as file:\n",
        "#     for line in file:\n",
        "#         n_lines += 1\n",
        "#         n_tokens += len(line)\n",
        "\n",
        "n_lines = 213_517_354\n",
        "f\"Lineas usadas sobre el total:{LINES_USED/n_lines:.3%}\"\n",
        "\n",
        "# n_words = 0\n",
        "# with open(corpus, 'rb') as file:\n",
        "#     for line in file:\n",
        "#         n_words += len(line)\n",
        "# print(f'Numero de tokens: {n_words}')\n",
        "n_words= 6_836_670_604\n",
        "f\"Number of tokens: {n_words}\""
      ],
      "execution_count": null,
      "outputs": [
        {
          "output_type": "execute_result",
          "data": {
            "application/vnd.google.colaboratory.intrinsic+json": {
              "type": "string"
            },
            "text/plain": [
              "'Number of tokens: 6836670604'"
            ]
          },
          "metadata": {
            "tags": []
          },
          "execution_count": 8
        }
      ]
    },
    {
      "cell_type": "code",
      "metadata": {
        "id": "a3XGdb1sVPRx",
        "colab": {
          "base_uri": "https://localhost:8080/"
        },
        "outputId": "9bd5eef4-80e6-4a30-ee8b-c0c3c5f801c0"
      },
      "source": [
        "def printLines(how_many=10, start=0, decode=False):\n",
        "    with open(corpus, 'rb') as datafile:\n",
        "        for i,line in enumerate(datafile):\n",
        "            if i < start: continue\n",
        "            if decode:\n",
        "                print(i,line.decode(\"utf-8\"))\n",
        "            else:\n",
        "                print(i,line)\n",
        "            if i==start+how_many: break\n",
        "\n",
        "# printLines(1000,700_000,decode=True)\n",
        "\n",
        "#funcion para buscar ejemplos a la hora de tratar la puntuacion\n",
        "def search_line(search_string,stop=10):\n",
        "    n=0\n",
        "    prev_line,line_found = \"\",\"\"\n",
        "    prnt = False\n",
        "    \n",
        "    with open(corpus, 'rb') as datafile:\n",
        "        for i,line in enumerate(datafile):\n",
        "            if prnt:\n",
        "                print(f\"------Línea {i-1}------\")\n",
        "                print(prev_line.decode(\"utf-8\"),line_found.decode(\"utf-8\"),\n",
        "                      line.decode(\"utf-8\"), sep=\"\\n\")\n",
        "                prnt = False\n",
        "                n+=1\n",
        "                if n==stop:\n",
        "                    break\n",
        "            if search_string in line: \n",
        "                line_found = line\n",
        "                prnt = True\n",
        "            else:\n",
        "                prev_line = line\n",
        "                \n",
        "# search_line(b\"[\",100)\n",
        "\n",
        "#Procesado de la puntuación\n",
        "def process_punct(s):#complejo\n",
        "    s = s.strip().lower().decode()\n",
        "    s = re.sub(r\"\\.000\",r\" mil\", s)\n",
        "    s = re.sub(r\"^-\",       r\"<GUION_INIC>\", s)\n",
        "    s = re.sub(r\"-{2}\",     r\"<GUION_DOBL>\", s)\n",
        "    s = re.sub(r\"\\.{3}\",    r\"<TRIP_DOT>\", s)\n",
        "    s = re.sub(r\"{y:bi}\",   r\"<SPECIAL_1>\", s)\n",
        "    s = re.sub(r\"(\\w)-(\\w)\",r\"\\1<GUION_INTER>\\2\", s)\n",
        "    s = re.sub(r\"([\\):!?])\",r\" \\1\", s)      #separa puntuacion con espacio antes\n",
        "    s = re.sub(r\"([\\(¡¿])\", r\"\\1 \", s)      #separa puntuacion con espacio despues\n",
        "    s = re.sub(r\"([\\\"-,¿\\.}])\", r\" \\1 \", s) #espacio antes y despues\n",
        "    \n",
        "    #separa los tokens\n",
        "    s = re.sub(r\"<\", r\" <\", s)\n",
        "    s = re.sub(r\">\", r\"> \", s)\n",
        "    \n",
        "    s = re.sub(r\"\\s<GUION_INTER>\\s\",r\"-\", s)\n",
        "    return s\n",
        "\n",
        "import unicodedata\n",
        "def process_punct(s): #simple #punct2\n",
        "    s = s.strip().lower().decode()\n",
        "    s = re.sub(r\"^-\",       r\"<GUION_INIC>\", s)\n",
        "    s = re.sub(r\"\\.{3}\",    r\"<TRIP_DOT>\", s)\n",
        "    s = re.sub(r\"{y:bi}\",   r\"<TKN_A>\", s)\n",
        "    s = ''.join((c for c in unicodedata.normalize('NFD',s) if unicodedata.category(c) != 'Mn')) #quita tildes\n",
        "    s = re.sub(r\"([.¡!¿?])\", r\" \\1 \", s)\n",
        "    s = re.sub(r\"[^a-zA-Z.¡!¿?<>_\\d]+\", r\" \", s)\n",
        "    s = re.sub(r\"\\s+\", r\" \", s).strip()\n",
        "    \n",
        "    s = re.sub(r\"<\", r\" <\", s)\n",
        "    s = re.sub(r\">\", r\"> \", s)\n",
        "    return s\n",
        "\n",
        "def process_punct(l):\n",
        "    s = l.lstrip(b\"-\").strip().lower().decode()\n",
        "    s = re.sub(r'\"', r\"\", s) \n",
        "    s = re.sub(r\"([.!?])\", r\" \\1\", s)           #separa puntuacion\n",
        "    s = re.sub(r\"([.¡¿])\", r\"\\1 \", s)           #separa puntuacion\n",
        "    s = re.sub(r\"[,]\",r\"\",s)                    #quita las comas\n",
        "    return s\n",
        "\n",
        "def loadLines(file, total_lines=10, max_lenght=MAX_LENGTH):\n",
        "    with open(file, 'rb') as datafile:\n",
        "        n=0\n",
        "        for i,line in enumerate(datafile):\n",
        "            if max(line.find(b\"[\"),line.find(b\"]\")) == -1: #filtra los comentarios\n",
        "                s = process_punct(line)\n",
        "                s = s.strip().split()\n",
        "                if len(s) < max_lenght: #filtra frases largas\n",
        "                    n+=1\n",
        "                    yield i,s\n",
        "            if n==total_lines: break\n",
        "                \n",
        "# for i,l in loadLines(corpus,10): print(i,l)\n",
        "\n",
        "print(\"#Test  0:\", process_punct(\"-t. -t\".encode()))\n",
        "print(\"#Test  1:\", process_punct(\"t. .t ¿t? ¿¿¿t???\".encode()))\n",
        "print(\"#Test  2:\", process_punct(\"\".encode()))\n",
        "print(\"#Test  3:\", process_punct(\"...t...\".encode()))\n",
        "print(\"#Test  4:\", process_punct(\"???...!!!\".encode()))\n",
        "print(\"#Test  5:\", process_punct('\"¿Cómo?\"'.encode()))\n",
        "print(\"#Test  6:\", process_punct('(--8:)'.encode()))\n",
        "print(\"#Test  7:\", process_punct('electro-quimico'.encode()))\n",
        "print(\"#Test  8:\", process_punct('que--'.encode()))\n",
        "print(\"#Test  9:\", process_punct('-ivanov'.encode()))\n",
        "print(\"#Test 10:\", process_punct('10.000, 5:45'.encode()))\n",
        "print(\"#Test 11:\", process_punct('8:00 8:00h'.encode()))\n",
        "print(\"#Test 12:\", process_punct('.¿ -¿'.encode()))\n",
        "print(\"#Test 13:\", process_punct('{y:bi}\"vamos\"'.encode()))"
      ],
      "execution_count": null,
      "outputs": [
        {
          "output_type": "stream",
          "text": [
            "#Test  0: t .  -t\n",
            "#Test  1: t .   . t ¿ t ? ¿ ¿ ¿ t ? ? ?\n",
            "#Test  2: \n",
            "#Test  3:  .  .  . t .  .  . \n",
            "#Test  4:  ? ? ? .  .  .  ! ! !\n",
            "#Test  5: ¿ cómo ?\n",
            "#Test  6: (--8:)\n",
            "#Test  7: electro-quimico\n",
            "#Test  8: que--\n",
            "#Test  9: ivanov\n",
            "#Test 10: 10 . 000 5:45\n",
            "#Test 11: 8:00 8:00h\n",
            "#Test 12:  . ¿  -¿ \n",
            "#Test 13: {y:bi}vamos\n"
          ],
          "name": "stdout"
        }
      ]
    },
    {
      "cell_type": "code",
      "metadata": {
        "id": "L0S8jmQhWo3e"
      },
      "source": [
        "# Default word tokens\n",
        "class Voc:\n",
        "    def __init__(self, name):\n",
        "        self.name = name\n",
        "        self.trimmed = False\n",
        "        self.word2index = {\"UNK\": UNK_token}\n",
        "        self.word2count = {}\n",
        "        self.index2word = {PAD_token: \"PAD\", SOS_token: \"SOS\", EOS_token: \"EOS\"}\n",
        "        self.num_words = 3  # Count SOS, EOS, PAD\n",
        "\n",
        "    def addSentence(self, spl_sent):\n",
        "        for word in spl_sent:\n",
        "            self.addWord(word)\n",
        "\n",
        "    def addWord(self, word):\n",
        "        if word not in self.word2index:\n",
        "            self.word2index[word] = self.num_words\n",
        "            self.word2count[word] = 1\n",
        "            self.index2word[self.num_words] = word\n",
        "            self.num_words += 1\n",
        "        else:\n",
        "            self.word2count[word] += 1\n",
        "\n",
        "    # Remove words below a certain count threshold\n",
        "    def trim(self, min_count):\n",
        "        if self.trimmed:\n",
        "            return\n",
        "        self.trimmed = True\n",
        "\n",
        "        keep_words = []\n",
        "\n",
        "        for k, v in self.word2count.items():\n",
        "            if v >= min_count:\n",
        "                keep_words.append(k)\n",
        "\n",
        "        print(f\"keep_words {len(keep_words)} / { len(self.word2index)} = \"\n",
        "              f\"{len(keep_words) / len(self.word2index):.4f}\")\n",
        "\n",
        "        # Reinitialize dictionaries\n",
        "        self.word2index = {\"UNK\": UNK_token}\n",
        "        self.word2count = {}\n",
        "        self.index2word = {PAD_token: \"PAD\", SOS_token: \"SOS\", EOS_token: \"EOS\", UNK_token:\"UNK\"}\n",
        "        self.num_words = 4 # Count default tokens\n",
        "\n",
        "        for word in keep_words:\n",
        "            self.addWord(word)"
      ],
      "execution_count": null,
      "outputs": []
    },
    {
      "cell_type": "code",
      "metadata": {
        "id": "0DDb_teXWo6v",
        "colab": {
          "base_uri": "https://localhost:8080/",
          "height": 597
        },
        "outputId": "f64aa12b-ce01-4287-b6ea-06c39a4ad77b"
      },
      "source": [
        "# %%time\n",
        "#TODO: multicpu\n",
        "\n",
        "voc = Voc(corpus_name)\n",
        "\n",
        "hist = []  \n",
        "for i, s in loadLines(corpus,LINES_USED):\n",
        "    s_l = len(s)\n",
        "    hist.append(s_l)\n",
        "    voc.addSentence(s)\n",
        "    \n",
        "print(f'NUmero de palabras: {voc.num_words}')\n",
        "\n",
        "arr = np.array(hist)\n",
        "plt.hist(arr, bins='auto')  # arguments are passed to np.histogram\n",
        "plt.title(f\"Sentence lenght. Capped to {MAX_LENGTH}\")\n",
        "plt.show()\n",
        "\n",
        "\n",
        "\n",
        "hist=[]\n",
        "for i,n in enumerate(voc.word2count):\n",
        "    c = voc.word2count[n]\n",
        "    if c>=3:\n",
        "        hist.append(c)\n",
        "        \n",
        "arr = np.array(hist)\n",
        "plt.hist(arr, bins=100,range=(3,50))  # arguments are passed to np.histogram\n",
        "plt.title(f\"Word frequency. Showing only: >=3,<50\")\n",
        "plt.show()\n",
        "\n",
        "\n",
        "\n",
        "from collections import Counter\n",
        "c = Counter(voc.word2count)\n",
        "c.most_common()\n",
        "\n",
        "\n",
        "\n",
        "\n",
        "#Check de la puntuacion\n",
        "import string \n",
        "print(string.punctuation)\n",
        "\n",
        "punt_dict = {}\n",
        "for word in c:\n",
        "    for punt in string.punctuation:#\",.¿?¡!\\\":()-{}\":\n",
        "        if punt in word:\n",
        "            if len(word)>1 and c[word]>MIN_COUNT:\n",
        "                punt_dict[word] = c[word]\n",
        "c2 = Counter(punt_dict)\n",
        "c2.most_common()\n",
        "\n",
        "\n",
        "\n",
        "\n",
        "voc.trim(MIN_COUNT)"
      ],
      "execution_count": null,
      "outputs": [
        {
          "output_type": "stream",
          "text": [
            "NUmero de palabras: 6472\n"
          ],
          "name": "stdout"
        },
        {
          "output_type": "display_data",
          "data": {
            "image/png": "[encoded data removed]",
            "text/plain": [
              "<Figure size 432x288 with 1 Axes>"
            ]
          },
          "metadata": {
            "tags": [],
            "needs_background": "light"
          }
        },
        {
          "output_type": "display_data",
          "data": {
            "image/png": "[encoded data removed]",
            "text/plain": [
              "<Figure size 432x288 with 1 Axes>"
            ]
          },
          "metadata": {
            "tags": [],
            "needs_background": "light"
          }
        },
        {
          "output_type": "stream",
          "text": [
            "!\"#$%&'()*+,-./:;<=>?@[\\]^_`{|}~\n",
            "keep_words 402 / 6470 = 0.0621\n"
          ],
          "name": "stdout"
        }
      ]
    },
    {
      "cell_type": "code",
      "metadata": {
        "id": "GFF-_7fcWo9r",
        "colab": {
          "base_uri": "https://localhost:8080/"
        },
        "outputId": "5603a38f-a48e-46b9-ec3a-bf19f26b2825"
      },
      "source": [
        "def has_trimmed_or_unk(spl_snt):\n",
        "    \"\"\" Filter out sentences with trimmed words or words not in the voc\n",
        "    spl_snt is a list of words\"\"\"\n",
        "    for word in spl_snt:\n",
        "        if word not in voc.word2index:\n",
        "            return True\n",
        "\n",
        "trm_unk = 0\n",
        "for i,s in loadLines(corpus,LINES_USED):\n",
        "    if has_trimmed_or_unk(s): trm_unk +=1\n",
        "        \n",
        "full_pairs =  LINES_USED - trm_unk      \n",
        "\n",
        "print(f\"From {LINES_USED} pairs, {full_pairs} does not contain trimmed or unkonwn words,\", \n",
        "      f\"{full_pairs / LINES_USED:.4f} of total\")\n",
        "\n",
        "\n",
        "#aumentando min_count de 3 a 5 el vocabulario pasa de 72510(57%) a 36642(29%), sin embargo las frases aceptadas \n",
        "#solo baja un 6%, de 97.33% a 91.27%, o lo que es más impactante, con un tercio del vocabulario total podemos \n",
        "#recrear más del 90% del dataset , TODO restestear con diferentes min count cuando este el multicpu\n",
        "\n",
        "\n",
        "# spl_snt is a list of words\n",
        "def indexesFromSentence(spl_snt, voc):\n",
        "    idxs = []\n",
        "    for word in spl_snt:\n",
        "        try:\n",
        "            idxs += [voc.word2index[word]]\n",
        "        except:\n",
        "            idxs += [UNK_token] #word2index[\"UNK\"]=UNK_token\n",
        "    return idxs + [EOS_token]\n",
        "\n",
        "def gen_pairs(how_many, voc):\n",
        "    first_inp = True\n",
        "    n=0\n",
        "    for out_idx, out_snt in loadLines(corpus,LINES_USED):\n",
        "        \n",
        "        if first_inp: #first cycle, set first input\n",
        "            inp_idx, inp_snt = out_idx, out_snt\n",
        "            first_inp = False\n",
        "            continue\n",
        "\n",
        "        if inp_idx+1 == out_idx: #frases contiguas (loadLines filter long sentences)\n",
        "            ok_inp = True if WITH_UNK else not has_trimmed_or_unk(inp_snt) # if WITH_UNK==True, every inp is accepted\n",
        "            ok_out = not has_trimmed_or_unk(out_snt)\n",
        "            \n",
        "            if ok_inp and ok_out: #every word is in Voc\n",
        "                n+=1\n",
        "                yield [indexesFromSentence(inp_snt, voc),indexesFromSentence(out_snt, voc)]\n",
        "        \n",
        "        if n==how_many:break\n",
        "        inp_idx, inp_snt = out_idx, out_snt #prepare next cycle\n",
        "        \n",
        "for pair in gen_pairs(10,voc): print(pair)\n",
        "\n",
        "\n",
        "#check finales paris\n",
        "for pair in gen_pairs(10,voc): \n",
        "    for i in pair:\n",
        "        snt = []\n",
        "        for idx in i:\n",
        "            snt += [voc.index2word[idx]]\n",
        "        print(*snt)\n",
        "    print(\"---\")\n",
        "\n",
        "\n",
        "pairs = list(gen_pairs(LINES_USED,voc))\n",
        "\n",
        "\"\"\"\n",
        "se obtienen menos pares que lineas usadas, con lineas usadas se crea el diccionario, con ese diccionario elegimos \n",
        "las palabras con las que quedarnos, se descartan las lineas con palabras borradas y de ahi solo cogemos los pares\n",
        "de lineas contiguos\n",
        "\"\"\"\n",
        "len(pairs)"
      ],
      "execution_count": null,
      "outputs": [
        {
          "output_type": "stream",
          "text": [
            "From 5000 pairs, 939 does not contain trimmed or unkonwn words, 0.1878 of total\n",
            "[[24, 25, 3, 26, 3, 27, 3, 3, 28, 2], [19, 7, 2]]\n",
            "[[67, 53, 3, 3, 68, 62, 3, 3, 43, 60, 69, 3, 7, 2], [24, 70, 71, 72, 28, 2]]\n",
            "[[27, 3, 10, 74, 75, 8, 76, 3, 73, 26, 77, 78, 7, 2], [79, 80, 81, 82, 78, 7, 7, 7, 2]]\n",
            "[[3, 12, 3, 26, 3, 10, 3, 3, 7, 2], [95, 7, 2]]\n",
            "[[19, 102, 3, 103, 10, 30, 12, 3, 7, 2], [104, 56, 38, 7, 2]]\n",
            "[[120, 19, 35, 3, 56, 131, 3, 7, 7, 7, 133, 19, 12, 132, 76, 3, 5, 3, 7, 2], [59, 134, 43, 120, 131, 7, 2]]\n",
            "[[59, 134, 43, 120, 131, 7, 2], [39, 135, 136, 7, 2]]\n",
            "[[74, 131, 100, 3, 10, 3, 137, 3, 10, 138, 3, 19, 27, 8, 10, 3, 139, 7, 2], [140, 141, 7, 2]]\n",
            "[[24, 106, 3, 3, 97, 28, 2], [35, 58, 7, 2]]\n",
            "[[59, 3, 3, 119, 8, 3, 7, 2], [24, 146, 147, 33, 148, 28, 2]]\n",
            "¿ le UNK el UNK a UNK UNK ? EOS\n",
            "no . EOS\n",
            "---\n",
            "tan solo UNK UNK mío y UNK UNK por ella cuando UNK . EOS\n",
            "¿ les parece bien ? EOS\n",
            "---\n",
            "a UNK de ese momento los tres UNK todo el tiempo juntos . EOS\n",
            "durante todos nuestros años juntos . . . EOS\n",
            "---\n",
            "UNK que UNK el UNK de UNK UNK . EOS\n",
            "sí . EOS\n",
            "---\n",
            "no puedo UNK nada de lo que UNK . EOS\n",
            "eres un idiota . EOS\n",
            "---\n",
            "este no es UNK un camino UNK . . . si no que hay tres UNK para UNK . EOS\n",
            "yo iré por este camino . EOS\n",
            "---\n",
            "yo iré por este camino . EOS\n",
            "ey chi ho . EOS\n",
            "---\n",
            "ese camino te UNK de UNK al UNK de tu UNK no a los de UNK mujeres . EOS\n",
            "oh mierda . EOS\n",
            "---\n",
            "¿ pero UNK UNK ahora ? EOS\n",
            "es verdad . EOS\n",
            "---\n",
            "yo UNK UNK hasta los UNK . EOS\n",
            "¿ cómo puedes estar seguro ? EOS\n",
            "---\n"
          ],
          "name": "stdout"
        },
        {
          "output_type": "execute_result",
          "data": {
            "text/plain": [
              "934"
            ]
          },
          "metadata": {
            "tags": []
          },
          "execution_count": 12
        }
      ]
    },
    {
      "cell_type": "code",
      "metadata": {
        "id": "G8_KywrJWpAk"
      },
      "source": [
        "#Guardar pairs y voc\n",
        "if not os.path.exists(save_dir):\n",
        "    os.makedirs(save_dir)\n",
        "    \n",
        "with open(save_dir + '/pairs.pkl', 'wb') as file:\n",
        "    pickle.dump(pairs, file)\n",
        "\n",
        "with open(save_dir + '/voc.pkl', 'wb') as file:\n",
        "    voc.__module__ = \"Voc\"\n",
        "    pickle.dump(voc, file)\n",
        "\n",
        "\n",
        "# # Example for validation of the code\n",
        "# small_batch_size = 6\n",
        "# pairs_list = [random.choice(pairs) for _ in range(small_batch_size)]\n",
        "# batches = batch2TrainData(pairs_list)\n",
        "# input_variable, lengths, target_variable, mask, max_target_len = batches\n",
        "\n",
        "# print(\"input_variable:\\n\", input_variable)\n",
        "# print(\"lengths:\", lengths)\n",
        "# print(\"target_variable:\\n\", target_variable)\n",
        "# print(\"mask:\\n\", mask)\n",
        "# print(\"max_target_len:\", max_target_len)"
      ],
      "execution_count": null,
      "outputs": []
    },
    {
      "cell_type": "code",
      "metadata": {
        "id": "pX0VP0whTgPn",
        "colab": {
          "base_uri": "https://localhost:8080/"
        },
        "outputId": "501a6cf1-5ec1-4b63-80ff-a5c6cc79374d"
      },
      "source": [
        "#---------------- sentencepiece ---------------------------\n",
        "! pip install sentencepiece"
      ],
      "execution_count": null,
      "outputs": [
        {
          "output_type": "stream",
          "text": [
            "Requirement already satisfied: sentencepiece in /usr/local/lib/python3.6/dist-packages (0.1.94)\n"
          ],
          "name": "stdout"
        }
      ]
    },
    {
      "cell_type": "code",
      "metadata": {
        "id": "Hg10viO3YMUW"
      },
      "source": [
        "import sentencepiece as spm\n",
        "from settings import *\n",
        "import pickle"
      ],
      "execution_count": null,
      "outputs": []
    },
    {
      "cell_type": "code",
      "metadata": {
        "id": "UdKEeyHOZViU",
        "colab": {
          "base_uri": "https://localhost:8080/"
        },
        "outputId": "c652b183-a321-4eb0-f8eb-1f0890f872ed"
      },
      "source": [
        "def load_lines(how_many):\n",
        "    n = 0\n",
        "    with open(corpus, 'rb') as readfl:\n",
        "        for i, line in enumerate(readfl):\n",
        "            if max(line.find(b\"[\"),line.find(b\"]\")) == -1: #filtra los comentarios\n",
        "                n+=1\n",
        "                line = line.lstrip(b\"- \").decode()\n",
        "                yield i,line\n",
        "                if n==total_lines: break\n",
        "\n",
        "if not os.path.exists(save_dir):\n",
        "    os.makedirs(save_dir)\n",
        "    \n",
        "total_lines=500_000\n",
        "\n",
        "with open(f\"{save_dir}/writefile.txt\", 'w') as writefl:\n",
        "    for i,line in load_lines(total_lines):\n",
        "        writefl.write(line)\n",
        "\n",
        "\n",
        "cmd = (f'--input={save_dir}/writefile.txt --vocab_size=15000 --model_prefix=m_bpe --model_type=bpe '\n",
        "       f'--pad_id={PAD_token} --unk_id={UNK_token} --bos_id={SOS_token} --eos_id={EOS_token} --pad_piece=[PAD] '\n",
        "       f'--unk_piece=[UNK] --bos_piece=[SOS] --eos_piece=[EOS] --normalization_rule_name=nfkc_cf')\n",
        "\n",
        "spm.SentencePieceTrainer.train(cmd)\n",
        "os.rename('./m_bpe.vocab',f'{save_dir}/m_bpe.vocab')\n",
        "os.rename('./m_bpe.model',f'{save_dir}/m_bpe.model')\n",
        "\n",
        "sp = spm.SentencePieceProcessor()\n",
        "sp.load(f'{save_dir}/m_bpe.model')"
      ],
      "execution_count": null,
      "outputs": [
        {
          "output_type": "execute_result",
          "data": {
            "text/plain": [
              "True"
            ]
          },
          "metadata": {
            "tags": []
          },
          "execution_count": 16
        }
      ]
    },
    {
      "cell_type": "code",
      "metadata": {
        "id": "bD29nGvIZVlb",
        "colab": {
          "base_uri": "https://localhost:8080/"
        },
        "outputId": "1ccddd80-b8a6-427e-8eee-6cc512808424"
      },
      "source": [
        "for id in range(4):\n",
        "    print(sp.id_to_piece(id), sp.is_control(id))\n",
        "\n",
        "print('bos=', sp.bos_id(),', eos=', sp.eos_id(),', unk=', sp.unk_id(),', pad=', sp.pad_id())\n",
        "\n",
        "# print(sp.encode_as_ids('Hello world'))\n",
        "# print([sp.bos_id()] + sp.encode_as_ids('H O L A world') + [sp.eos_id()])\n",
        "\n",
        "# print(sp.encode_as_pieces('Hello world'))\n",
        "# print(sp.encode_as_pieces('HOLA Hola hola mundo estás')) \n",
        "# print([sp.bos_id()] + sp.encode_as_ids('Hola mundo estás') + [sp.eos_id()])\n",
        "\n",
        "\n",
        "def gen_pairs(how_many): #how many loaded line, pairs will be less\n",
        "    prev_ln = None\n",
        "    for i, line in load_lines(how_many):\n",
        "        if prev_ln == None: \n",
        "            prev_ln = sp.encode_as_ids(line.strip()) + [EOS_token]\n",
        "            prev_idx= i\n",
        "            continue\n",
        "        \n",
        "        line = sp.encode_as_ids(line.strip()) + [EOS_token]\n",
        "        if prev_idx+1 == i:\n",
        "            yield [prev_ln,line]\n",
        "\n",
        "        if i == how_many: break\n",
        "        prev_ln = line\n",
        "        prev_idx= i\n",
        "\n",
        "\n",
        "# for pair in gen_pairs(100):\n",
        "#     print(pair[0],sp.encode_as_pieces(sp.decode_ids(pair[0])),sp.decode_ids(pair[0]),sep=\"\\n\")\n",
        "#     print(pair[1],sp.encode_as_pieces(sp.decode_ids(pair[1])),sp.decode_ids(pair[1]),sep=\"\\n\")\n",
        "#     print()\n",
        "\n",
        "\n",
        "pairs = list(gen_pairs(LINES_USED))\n",
        "\n",
        "\n",
        "with open(save_dir + '/sp_pairs.pkl', 'wb') as file:\n",
        "    pickle.dump(pairs, file)"
      ],
      "execution_count": null,
      "outputs": [
        {
          "output_type": "stream",
          "text": [
            "[PAD] True\n",
            "[SOS] True\n",
            "[EOS] True\n",
            "[UNK] False\n",
            "bos= 1 , eos= 2 , unk= 3 , pad= 0\n"
          ],
          "name": "stdout"
        }
      ]
    },
    {
      "cell_type": "code",
      "metadata": {
        "id": "InEGR9QjZVo5"
      },
      "source": [
        ""
      ],
      "execution_count": null,
      "outputs": []
    },
    {
      "cell_type": "markdown",
      "metadata": {
        "id": "KuiKv4DpZ64f"
      },
      "source": [
        "## Definimos el Modelo (Seq2Seq)"
      ]
    },
    {
      "cell_type": "code",
      "metadata": {
        "id": "aKjYOSITZVsV",
        "colab": {
          "base_uri": "https://localhost:8080/"
        },
        "outputId": "b4c37451-a32d-4b17-afd6-2a4383f640ed"
      },
      "source": [
        "import torch\n",
        "import torch.nn as nn\n",
        "from torch import optim\n",
        "import torch.nn.functional as F\n",
        "\n",
        "import pickle, random, itertools, os\n",
        "import numpy as np\n",
        "import matplotlib.pyplot as plt\n",
        "\n",
        "from pre_processing import Voc\n",
        "from settings import *\n",
        "\n",
        "USE_CUDA = torch.cuda.is_available()\n",
        "device = torch.device(\"cuda\" if USE_CUDA else \"cpu\")\n",
        "print(\"device = \", device)"
      ],
      "execution_count": null,
      "outputs": [
        {
          "output_type": "stream",
          "text": [
            "device =  cuda\n"
          ],
          "name": "stdout"
        }
      ]
    },
    {
      "cell_type": "markdown",
      "metadata": {
        "id": "Kk2t6s2za8qs"
      },
      "source": [
        "### Loading data and batching"
      ]
    },
    {
      "cell_type": "code",
      "metadata": {
        "id": "4bDsSN2ZYMab"
      },
      "source": [
        "with open(save_dir + '/voc.pkl',  'rb') as f:\n",
        "    voc   = pickle.load(f)\n",
        "    \n",
        "with open(save_dir + '/pairs.pkl','rb') as f:\n",
        "    pairs = pickle.load(f)\n",
        "    \n",
        "##with open(\"./data/loss_log.pkl\", 'rb') as f:\n",
        "##    loss_log = pickle.load(f)"
      ],
      "execution_count": null,
      "outputs": []
    },
    {
      "cell_type": "code",
      "metadata": {
        "id": "88weMEjoYMdR",
        "colab": {
          "base_uri": "https://localhost:8080/"
        },
        "outputId": "0a4a0d5e-8072-4547-fff1-eeb2db1fca2b"
      },
      "source": [
        "def zeroPadding(l, fillvalue=PAD_token):\n",
        "    return list(itertools.zip_longest(*l, fillvalue=fillvalue))\n",
        "\n",
        "def binaryMatrix(l, value=PAD_token):\n",
        "    m = []\n",
        "    for i, seq in enumerate(l):\n",
        "        m.append([])\n",
        "        for token in seq:\n",
        "            if token == PAD_token:\n",
        "                m[i].append(0)\n",
        "            else:\n",
        "                m[i].append(1)\n",
        "    return m\n",
        "\n",
        "# Returns padded input sequence tensor and lengths\n",
        "def inputVar(indexes_batch):\n",
        "    lengths = torch.tensor([len(indexes) for indexes in indexes_batch])\n",
        "    padList = zeroPadding(indexes_batch)\n",
        "    padVar = torch.LongTensor(padList)\n",
        "    return padVar, lengths\n",
        "\n",
        "# Returns padded target sequence tensor, padding mask, and max target length\n",
        "def outputVar(indexes_batch):\n",
        "    max_target_len = max([len(indexes) for indexes in indexes_batch])\n",
        "    padList = zeroPadding(indexes_batch)\n",
        "    mask = binaryMatrix(padList)\n",
        "    mask = torch.ByteTensor(mask)\n",
        "    padVar = torch.LongTensor(padList)\n",
        "    return padVar, mask, max_target_len\n",
        "\n",
        "# Returns all items for a given batch of pairs\n",
        "def batch2TrainData(pair_batch):\n",
        "    pair_batch.sort(key=lambda x: len(x[0]), reverse=True)\n",
        "    input_batch, output_batch = [], []\n",
        "    for pair in pair_batch:\n",
        "        input_batch.append(pair[0])\n",
        "        output_batch.append(pair[1])\n",
        "    inp, lengths = inputVar(input_batch)\n",
        "    output, mask, max_target_len = outputVar(output_batch)\n",
        "    return inp, lengths, output, mask, max_target_len\n",
        "\n",
        "\n",
        "# Example for validation\n",
        "small_batch_size = 6\n",
        "pairs_list = [random.choice(pairs) for _ in range(small_batch_size)]\n",
        "batches = batch2TrainData(pairs_list)\n",
        "input_variable, lengths, target_variable, mask, max_target_len = batches\n",
        "\n",
        "print(\"input_variable:\\n\", input_variable)\n",
        "print(\"lengths:\", lengths)\n",
        "print(\"target_variable:\\n\", target_variable)\n",
        "print(\"mask:\\n\", mask)\n",
        "print(\"max_target_len:\", max_target_len)"
      ],
      "execution_count": null,
      "outputs": [
        {
          "output_type": "stream",
          "text": [
            "input_variable:\n",
            " tensor([[ 21, 307,  24,  24, 106,   3],\n",
            "        [ 74,   3,  41, 104,  19,   3],\n",
            "        [ 75,  10,   3,   3,   3,   7],\n",
            "        [133,  30,   5,  48,  34,   2],\n",
            "        [100,  12,   6,  41,   7,   0],\n",
            "        [  3, 132,   3,  28,   2,   0],\n",
            "        [255, 128,  28,   2,   0,   0],\n",
            "        [101,  62,   2,   0,   0,   0],\n",
            "        [ 12, 128,   0,   0,   0,   0],\n",
            "        [  3,   7,   0,   0,   0,   0],\n",
            "        [ 66,   2,   0,   0,   0,   0],\n",
            "        [  7,   0,   0,   0,   0,   0],\n",
            "        [  2,   0,   0,   0,   0,   0]])\n",
            "lengths: tensor([13, 11,  8,  7,  6,  4])\n",
            "target_variable:\n",
            " tensor([[ 19, 168, 180,  72, 200,  30],\n",
            "        [ 84, 300, 152,   7,  12, 185],\n",
            "        [ 12,   7,  69,   2,  19,   7],\n",
            "        [ 35,   2, 116,   0,   7,   2],\n",
            "        [128,   0,  78,   0,   2,   0],\n",
            "        [106,   0,   7,   0,   0,   0],\n",
            "        [ 19,   0,   2,   0,   0,   0],\n",
            "        [ 30,   0,   0,   0,   0,   0],\n",
            "        [185,   0,   0,   0,   0,   0],\n",
            "        [  7,   0,   0,   0,   0,   0],\n",
            "        [  2,   0,   0,   0,   0,   0]])\n",
            "mask:\n",
            " tensor([[1, 1, 1, 1, 1, 1],\n",
            "        [1, 1, 1, 1, 1, 1],\n",
            "        [1, 1, 1, 1, 1, 1],\n",
            "        [1, 1, 1, 0, 1, 1],\n",
            "        [1, 0, 1, 0, 1, 0],\n",
            "        [1, 0, 1, 0, 0, 0],\n",
            "        [1, 0, 1, 0, 0, 0],\n",
            "        [1, 0, 0, 0, 0, 0],\n",
            "        [1, 0, 0, 0, 0, 0],\n",
            "        [1, 0, 0, 0, 0, 0],\n",
            "        [1, 0, 0, 0, 0, 0]], dtype=torch.uint8)\n",
            "max_target_len: 11\n"
          ],
          "name": "stdout"
        }
      ]
    },
    {
      "cell_type": "markdown",
      "metadata": {
        "id": "Xs5I0xoobK2d"
      },
      "source": [
        "### Modelo"
      ]
    },
    {
      "cell_type": "markdown",
      "metadata": {
        "id": "kjxb8MkLT0vz"
      },
      "source": [
        "Usando el mejor mecanismo de Atención se construye un ChatBot para español usando los datos de open subtitles como sugiere el autor de este Blog: https://mc.ai/como-hacer-un-chatbot-en-espanol-y-que-te-trolee-en-el-intento/\n"
      ]
    },
    {
      "cell_type": "code",
      "metadata": {
        "id": "bADaCFJEN6Pp"
      },
      "source": [
        "# Modelo de atención: Soft-Attention\n",
        "class Soft_Attention(torch.nn.Module):\n",
        "    #def __init__(self, encoder_dim, decoder_dim):\n",
        "    def __init__(self, method, hidden_size):\n",
        "        super(Soft_Attention, self).__init__()\n",
        "        #super().__init__()\n",
        "\n",
        "        self.hidden_size = hidden_size \n",
        "        self.w_a = torch.nn.Linear(self.hidden_size, hidden_size)\n",
        "        self.u_a = torch.nn.Linear(self.hidden_size, hidden_size)\n",
        "        self.v_a = torch.nn.Linear(self.hidden_size, 1, bias = False)\n",
        "        self.v = torch.nn.Parameter(torch.FloatTensor(hidden_size))\n",
        "        \n",
        "    #def forward(self, encoder_state_vectors, query_vector):\n",
        "    def forward(self, query_vector, encoder_state_vectors):\n",
        "\n",
        "        query_vector2 = query_vector.permute(1,0, 2)\n",
        "        encoder_state_vectors2 = encoder_state_vectors.permute(1,0, 2)\n",
        "\n",
        "        batch_size, num_vectors, vector_size = encoder_state_vectors2.size()\n",
        "\n",
        "        vector_energy = torch.tanh(self.w_a(query_vector2.view(batch_size, 1, vector_size)) + self.u_a(encoder_state_vectors2) ) \n",
        "        vector_scores = self.v_a(vector_energy)\n",
        "        vector_probabilities = F.softmax(vector_scores, dim=1)\n",
        "\n",
        "        ##weighted_vectors = encoder_state_vectors2 * vector_probabilities.view(batch_size, num_vectors, 1)\n",
        "        #context_vectors = torch.sum(weighted_vectors, dim=1)\n",
        "        ##context_vectors = torch.sum(weighted_vectors, dim=2).unsqueeze(1)\n",
        "        \n",
        "        #return context_vectors, vector_probabilities, vector_scores\n",
        "        #return context_vectors #.permute(2,1, 0) #(1,2, 0)\n",
        "        return vector_probabilities.permute(0,2, 1)\n"
      ],
      "execution_count": null,
      "outputs": []
    },
    {
      "cell_type": "code",
      "metadata": {
        "id": "kazRkcX5bME4"
      },
      "source": [
        "class EncoderRNN(nn.Module):\n",
        "    def __init__(self, hidden_size, embedding, n_layers=1, dropout=0):\n",
        "        super(EncoderRNN, self).__init__()\n",
        "        self.n_layers = n_layers\n",
        "        self.hidden_size = hidden_size\n",
        "        self.embedding = embedding\n",
        "\n",
        "        # Initialize GRU; the input_size and hidden_size params are both set to 'hidden_size'\n",
        "        #   because our input size is a word embedding with number of features == hidden_size\n",
        "        self.gru = nn.GRU(hidden_size, hidden_size, n_layers,\n",
        "                          dropout=(0 if n_layers == 1 else dropout), bidirectional=True)\n",
        "\n",
        "    def forward(self, input_seq, input_lengths, hidden=None):\n",
        "        # Convert word indexes to embeddings\n",
        "        embedded = self.embedding(input_seq)\n",
        "        # Pack padded batch of sequences for RNN module\n",
        "        #packed = torch.nn.utils.rnn.pack_padded_sequence(embedded, input_lengths).to(device)\n",
        "\n",
        "        # Forward pass through GRU\n",
        "        self.gru.flatten_parameters()\n",
        "        outputs, hidden = self.gru(embedded, hidden)\n",
        "        #outputs, hidden = self.gru(packed, hidden)\n",
        "\n",
        "        # Unpack padding\n",
        "        #outputs, _ = torch.nn.utils.rnn.pad_packed_sequence(outputs)\n",
        "        # Sum bidirectional GRU outputs\n",
        "        #outputs = outputs[:, :, :self.hidden_size] + outputs[:, : ,self.hidden_size:]\n",
        "        outputs = outputs[:, :, :self.hidden_size] + outputs[:, :, self.hidden_size:]\n",
        "\n",
        "        # Return output and final hidden state\n",
        "        return outputs, hidden\n",
        "\n",
        "# Luong attention layer\n",
        "class Attn(torch.nn.Module):\n",
        "    def __init__(self, method, hidden_size):\n",
        "        super(Attn, self).__init__()\n",
        "        self.method = method\n",
        "\n",
        "        if self.method not in ['dot', 'general', 'concat']:\n",
        "            raise ValueError(self.method, \"is not an appropriate attention method.\")\n",
        "        self.hidden_size = hidden_size\n",
        "        if self.method == 'general':\n",
        "            self.attn = torch.nn.Linear(self.hidden_size, hidden_size)\n",
        "        elif self.method == 'concat':\n",
        "            self.attn = torch.nn.Linear(self.hidden_size * 2, hidden_size)\n",
        "            self.v = torch.nn.Parameter(torch.FloatTensor(hidden_size))\n",
        "\n",
        "    def dot_score(self, hidden, encoder_output):\n",
        "        return torch.sum(hidden * encoder_output, dim=2)\n",
        "\n",
        "    def general_score(self, hidden, encoder_output):\n",
        "        energy = self.attn(encoder_output)\n",
        "        return torch.sum(hidden * energy, dim=2)\n",
        "\n",
        "    def concat_score(self, hidden, encoder_output):\n",
        "        energy = self.attn(torch.cat((hidden.expand(encoder_output.size(0), -1, -1), encoder_output), 2)).tanh()\n",
        "        return torch.sum(self.v * energy, dim=2)\n",
        "\n",
        "    def forward(self, hidden, encoder_outputs):\n",
        "        \n",
        "        # Calculate the attention weights (energies) based on the given method\n",
        "        if self.method == 'general':\n",
        "            attn_energies = self.general_score(hidden, encoder_outputs)\n",
        "        elif self.method == 'concat':\n",
        "            attn_energies = self.concat_score(hidden, encoder_outputs)\n",
        "        elif self.method == 'dot':\n",
        "            attn_energies = self.dot_score(hidden, encoder_outputs)\n",
        "\n",
        "        # Transpose max_length and batch_size dimensions\n",
        "        attn_energies = attn_energies.t()\n",
        "\n",
        "        # Return the softmax normalized probability scores (with added dimension)\n",
        "        return F.softmax(attn_energies, dim=1).unsqueeze(1)\n",
        "\n",
        "class LuongAttnDecoderRNN(nn.Module):\n",
        "    def __init__(self, attn_model, embedding, hidden_size, output_size, n_layers=1, dropout=0.1,tie_weights=False):\n",
        "        super(LuongAttnDecoderRNN, self).__init__()\n",
        "\n",
        "        # Keep for reference\n",
        "        self.attn_model = attn_model\n",
        "        self.hidden_size = hidden_size\n",
        "        self.output_size = output_size\n",
        "        self.n_layers = n_layers\n",
        "        self.dropout = dropout\n",
        "\n",
        "        # Define layers\n",
        "        self.embedding = embedding\n",
        "        self.embedding_dropout = nn.Dropout(dropout)\n",
        "        self.gru = nn.GRU(hidden_size, hidden_size, n_layers, dropout=(0 if n_layers == 1 else dropout))\n",
        "        self.concat = nn.Linear(hidden_size * 2, hidden_size)\n",
        "        self.out = nn.Linear(hidden_size, output_size)\n",
        "\n",
        "        #self.attn = Attn(attn_model, hidden_size)\n",
        "        self.attn = Soft_Attention(attn_model, hidden_size)\n",
        "        \n",
        "        if tie_weights:\n",
        "            self.out.weight = self.embedding.weight\n",
        "\n",
        "    def forward(self, input_step, last_hidden, encoder_outputs):\n",
        "\n",
        "        # Note: we run this one step (word) at a time\n",
        "        # Get embedding of current input word\n",
        "        embedded = self.embedding(input_step)\n",
        "        embedded = self.embedding_dropout(embedded)\n",
        "        # Forward through unidirectional GRU\n",
        "        rnn_output, hidden = self.gru(embedded, last_hidden)\n",
        "        # Calculate attention weights from the current GRU output\n",
        "        attn_weights = self.attn(rnn_output, encoder_outputs)\n",
        "        # Multiply attention weights to encoder outputs to get new \"weighted sum\" context vector\n",
        "        context = attn_weights.bmm(encoder_outputs.transpose(0, 1))\n",
        "        # Concatenate weighted context vector and GRU output using Luong eq. 5\n",
        "        rnn_output = rnn_output.squeeze(0)\n",
        "        context = context.squeeze(1)\n",
        "        concat_input = torch.cat((rnn_output, context), 1)\n",
        "        concat_output = torch.tanh(self.concat(concat_input))\n",
        "        # Predict next word using Luong eq. 6\n",
        "        output = self.out(concat_output)\n",
        "        output = F.softmax(output, dim=1)\n",
        "        # Return output and final hidden state\n",
        "        return output, hidden\n",
        "\n",
        "\n",
        "def maskNLLLoss(inp, target, mask):\n",
        "    nTotal = mask.sum()\n",
        "    crossEntropy = -torch.log(torch.gather(inp, 1, target.view(-1, 1)).squeeze(1))\n",
        "    loss = crossEntropy.masked_select(mask).mean()\n",
        "    loss = loss.to(device)\n",
        "    return loss, nTotal.item()\n",
        "\n",
        "def count_parameters(model):\n",
        "    return sum(p.numel() for p in model.parameters() if p.requires_grad)"
      ],
      "execution_count": null,
      "outputs": []
    },
    {
      "cell_type": "markdown",
      "metadata": {
        "id": "brJ13J1Fbhe9"
      },
      "source": [
        "### Training"
      ]
    },
    {
      "cell_type": "code",
      "metadata": {
        "id": "ZMTy3THabOp0"
      },
      "source": [
        "def plot_loss(d):\n",
        "    x,y=[],[]\n",
        "    for k,v in d.items():\n",
        "            x.append(k)\n",
        "            y.append(v)\n",
        "    plt.plot(x,y)\n",
        "\n",
        "def train(input_variable, lengths, target_variable, mask, max_target_len, encoder, decoder, embedding,\n",
        "          encoder_optimizer, decoder_optimizer, batch_size, clip, max_length=MAX_LENGTH):\n",
        "\n",
        "    # Zero gradients\n",
        "    encoder_optimizer.zero_grad()\n",
        "    decoder_optimizer.zero_grad()\n",
        "\n",
        "    # Set device options\n",
        "    input_variable = input_variable.to(device)\n",
        "    lengths = lengths.to(device)\n",
        "    target_variable = target_variable.to(device)\n",
        "    mask = mask.to(device)\n",
        "\n",
        "    # Initialize variables\n",
        "    loss = 0\n",
        "    print_losses = []\n",
        "    n_totals = 0\n",
        "\n",
        "    # Forward pass through encoder\n",
        "    encoder_outputs, encoder_hidden = encoder(input_variable, lengths)\n",
        "\n",
        "    # Create initial decoder input (start with SOS tokens for each sentence)\n",
        "    decoder_input = torch.LongTensor([[SOS_token for _ in range(batch_size)]])\n",
        "    decoder_input = decoder_input.to(device)\n",
        "\n",
        "    # Set initial decoder hidden state to the encoder's final hidden state\n",
        "    decoder_hidden = encoder_hidden[:decoder.n_layers]\n",
        "\n",
        "    # Determine if we are using teacher forcing this iteration\n",
        "    use_teacher_forcing = True if random.random() < teacher_forcing_ratio else False\n",
        "\n",
        "    # Forward batch of sequences through decoder one time step at a time\n",
        "    if use_teacher_forcing:\n",
        "        for t in range(max_target_len):\n",
        "            decoder_output, decoder_hidden = decoder(\n",
        "                decoder_input, decoder_hidden, encoder_outputs\n",
        "            )\n",
        "            # Teacher forcing: next input is current target\n",
        "            decoder_input = target_variable[t].view(1, -1)\n",
        "            # Calculate and accumulate loss\n",
        "            mask_loss, nTotal = maskNLLLoss(decoder_output, target_variable[t], mask[t])\n",
        "            loss += mask_loss\n",
        "            print_losses.append(mask_loss.item() * nTotal)\n",
        "            n_totals += nTotal\n",
        "    else:\n",
        "        for t in range(max_target_len):\n",
        "            decoder_output, decoder_hidden = decoder(decoder_input, decoder_hidden, encoder_outputs)\n",
        "            # No teacher forcing: next input is decoder's own current output\n",
        "            _, topi = decoder_output.topk(1)\n",
        "            decoder_input = torch.LongTensor([[topi[i][0] for i in range(batch_size)]])\n",
        "            decoder_input = decoder_input.to(device)\n",
        "            # Calculate and accumulate loss\n",
        "            mask_loss, nTotal = maskNLLLoss(decoder_output, target_variable[t], mask[t])\n",
        "            loss += mask_loss\n",
        "            print_losses.append(mask_loss.item() * nTotal)\n",
        "            n_totals += nTotal\n",
        "\n",
        "    # Perform backpropatation\n",
        "    loss.backward()\n",
        "\n",
        "    # Clip gradients: gradients are modified in place\n",
        "    _ = torch.nn.utils.clip_grad_norm_(encoder.parameters(), clip)\n",
        "    _ = torch.nn.utils.clip_grad_norm_(decoder.parameters(), clip)\n",
        "\n",
        "    # Adjust model weights\n",
        "    encoder_optimizer.step()\n",
        "    decoder_optimizer.step()\n",
        "\n",
        "    return sum(print_losses) / n_totals\n",
        "\n",
        "\n",
        "def trainIters(voc, pairs, encoder, decoder, encoder_optimizer, decoder_optimizer, embedding, \n",
        "               encoder_n_layers, decoder_n_layers, save_dir, n_iteration, batch_size, print_every, save_every, \n",
        "               clip, corpus_name, loadFilename, total_iter):\n",
        "\n",
        "    # Load batches for each iteration\n",
        "    #TODO: generator form to save memory of training_batches\n",
        "    training_batches = [batch2TrainData([random.choice(pairs) for _ in range(batch_size)])\n",
        "                      for _ in range(n_iteration)]\n",
        "\n",
        "    # Initializations\n",
        "#     print('Initializing ...')\n",
        "    start_iteration = 0\n",
        "    print_loss = 0\n",
        "    if loadFilename:\n",
        "        start_iteration = checkpoint['iteration']\n",
        "\n",
        "    # Training loop\n",
        "#     print(\"Training...\")\n",
        "    for iteration in range(1,n_iteration+1):\n",
        "        training_batch = training_batches[iteration-1]\n",
        "        # Extract fields from batch\n",
        "        input_variable, lengths, target_variable, mask, max_target_len = training_batch\n",
        "\n",
        "        # Run a training iteration with batch\n",
        "        loss = train(input_variable, lengths, target_variable, mask, max_target_len, encoder,\n",
        "                     decoder, embedding, encoder_optimizer, decoder_optimizer, batch_size, clip)\n",
        "\n",
        "        print_loss += loss\n",
        "        \n",
        "        # Print progress\n",
        "        if iteration % print_every == 0:\n",
        "            print_loss_avg = print_loss / print_every\n",
        "            assert np.isnan(print_loss_avg) == False\n",
        "            loss_dict[total_iter+iteration] = print_loss_avg\n",
        "            print(f\"Iteration: {iteration}; Percent complete: {iteration / n_iteration * 100:.1f}%; \"\n",
        "                  f\"Average loss: {print_loss_avg:.4f}\")\n",
        "            print_loss = 0\n",
        "\n",
        "        # Save checkpoint\n",
        "        if (iteration % save_every == 0):\n",
        "            directory = os.path.join(save_dir, \"checkpoints\")\n",
        "            if not os.path.exists(directory):\n",
        "                os.makedirs(directory)\n",
        "            torch.save({\n",
        "                'iteration': start_iteration+iteration,\n",
        "                'en': encoder.state_dict(),\n",
        "                'de': decoder.state_dict(),\n",
        "                'en_opt': encoder_optimizer.state_dict(),\n",
        "                'de_opt': decoder_optimizer.state_dict(),\n",
        "                'loss': loss,\n",
        "                'voc_dict': voc.__dict__,\n",
        "                'embedding': embedding.state_dict(),\n",
        "                \"total_iter\": total_iter+iteration,\n",
        "                'loss': loss_dict #for plotting\n",
        "            }, os.path.join(directory, f'{start_iteration+iteration}_checkpoint.tar'))"
      ],
      "execution_count": null,
      "outputs": []
    },
    {
      "cell_type": "code",
      "metadata": {
        "id": "jXTgXulBbOtm",
        "colab": {
          "base_uri": "https://localhost:8080/"
        },
        "outputId": "7e8bfe3c-85e3-4195-a804-4b4a8d485934"
      },
      "source": [
        "# Configure models\n",
        "attn_model = 'dot'\n",
        "#attn_model = 'general'\n",
        "#attn_model = 'concat'\n",
        "hidden_size = 500 #tamaño del embedding y del hidden, tienen que ser iguales para el output embedding\n",
        "encoder_n_layers = 2\n",
        "decoder_n_layers = 2\n",
        "dropout = 0.1\n",
        "batch_size = 128\n",
        "\n",
        "# Set checkpoint to load from; set to None if starting from scratch\n",
        "train_from_zero = True\n",
        "load_last_iter  = False\n",
        "chkpt_dir = os.path.join(save_dir, \"checkpoints\")\n",
        "\n",
        "if train_from_zero:\n",
        "    loadFilename = None\n",
        "    total_iter = 0\n",
        "    loss_dict = {}\n",
        "else:\n",
        "    if load_last_iter: #load last save\n",
        "        chkpt = os.listdir(chkpt_dir)[-1]\n",
        "        loadFilename = os.path.join(chkpt_dir,chkpt)\n",
        "    else:    \n",
        "        checkpoint_iter = 20_000 #load especific iter\n",
        "        loadFilename = os.path.join(chkpt_dir, f'{checkpoint_iter}_checkpoint.tar')\n",
        "\n",
        "print('Building encoder and decoder ...')\n",
        "# Initialize word embeddings\n",
        "embedding = nn.Embedding(voc.num_words, hidden_size)\n",
        "\n",
        "# Initialize encoder & decoder models\n",
        "encoder = EncoderRNN(hidden_size, embedding, encoder_n_layers, dropout)\n",
        "decoder = LuongAttnDecoderRNN(attn_model, embedding, hidden_size, voc.num_words, decoder_n_layers, dropout,True)\n",
        "print(\"Nº of params: \", count_parameters(encoder) + count_parameters(decoder))\n",
        "\n",
        "# Use appropriate device\n",
        "encoder = encoder.to(device)\n",
        "decoder = decoder.to(device)\n",
        "\n",
        "# Load model if a loadFilename is provided\n",
        "if loadFilename:\n",
        "    # If loading on same machine the model was trained on\n",
        "    checkpoint = torch.load(loadFilename)\n",
        "    # If loading a model trained on GPU to CPU\n",
        "    #checkpoint = torch.load(loadFilename, map_location=torch.device('cpu'))+\n",
        "    encoder.load_state_dict(checkpoint['en'])\n",
        "    decoder.load_state_dict(checkpoint['de'])\n",
        "    embedding.load_state_dict(checkpoint['embedding'])\n",
        "    voc.__dict__ = checkpoint['voc_dict']\n",
        "    total_iter = checkpoint[\"total_iter\"]\n",
        "    loss_dict = checkpoint[\"loss\"]\n",
        "    \n",
        "print('Models built and ready to go!')"
      ],
      "execution_count": null,
      "outputs": [
        {
          "output_type": "stream",
          "text": [
            "Building encoder and decoder ...\n",
            "Nº of params:  11926906\n",
            "Models built and ready to go!\n"
          ],
          "name": "stdout"
        }
      ]
    },
    {
      "cell_type": "code",
      "metadata": {
        "id": "eeGRwGn1b6xw",
        "colab": {
          "base_uri": "https://localhost:8080/"
        },
        "outputId": "44abb55b-a0a2-4f50-a54b-7d101fd528a6"
      },
      "source": [
        "# Configure training/optimization\n",
        "clip = 50.0\n",
        "teacher_forcing_ratio = 1\n",
        "learning_rate = 4e-5\n",
        "decoder_learning_ratio = 5.0\n",
        "n_iteration = 2_000 #10_000\n",
        "print_every = 1_000\n",
        "#save_every = 11_000\n",
        "save_every = 1_000\n",
        "wd = 1e-5\n",
        "\n",
        "# Initialize optimizers\n",
        "print('Building optimizers ...')\n",
        "encoder_optimizer = optim.Adam(encoder.parameters(), lr=learning_rate,weight_decay=wd)\n",
        "decoder_optimizer = optim.Adam(decoder.parameters(), lr=learning_rate * decoder_learning_ratio,weight_decay=wd)\n",
        "if loadFilename:\n",
        "    encoder_optimizer.load_state_dict(checkpoint['en_opt'])\n",
        "    decoder_optimizer.load_state_dict(checkpoint['de_opt'])"
      ],
      "execution_count": null,
      "outputs": [
        {
          "output_type": "stream",
          "text": [
            "Building optimizers ...\n"
          ],
          "name": "stdout"
        }
      ]
    },
    {
      "cell_type": "code",
      "metadata": {
        "id": "7yYM8ONWb61c",
        "colab": {
          "base_uri": "https://localhost:8080/",
          "height": 392
        },
        "outputId": "cf9b9afd-af75-41c3-c95d-fa78511e6089"
      },
      "source": [
        "%%time\n",
        "# Ensure dropout layers are in train mode\n",
        "encoder.train()\n",
        "decoder.train()\n",
        "loss_log = {}\n",
        "# Run training iterations\n",
        "for _ in range(1):\n",
        "    print(f\"No. iterations: {total_iter}\")\n",
        "    trainIters(voc, pairs, encoder, decoder, encoder_optimizer, decoder_optimizer,\n",
        "               embedding, encoder_n_layers, decoder_n_layers, save_dir, n_iteration, batch_size,\n",
        "               print_every, save_every, clip, corpus_name, loadFilename,total_iter)\n",
        "    total_iter+=n_iteration\n",
        "    \n",
        "    #print(\"open archivo..\")\n",
        "    with open(\"./data/loss_log.pkl\", 'wb') as f:\n",
        "        loss_log[corpus_name] = loss_dict\n",
        "        pickle.dump(loss_log, f)\n",
        "    plot_loss(loss_dict)"
      ],
      "execution_count": null,
      "outputs": [
        {
          "output_type": "stream",
          "text": [
            "No. iterations: 0\n"
          ],
          "name": "stdout"
        },
        {
          "output_type": "stream",
          "text": [
            "/usr/local/lib/python3.6/dist-packages/ipykernel_launcher.py:126: UserWarning: indexing with dtype torch.uint8 is now deprecated, please use a dtype torch.bool instead. (Triggered internally at  /pytorch/aten/src/ATen/native/IndexingUtils.h:25.)\n"
          ],
          "name": "stderr"
        },
        {
          "output_type": "stream",
          "text": [
            "Iteration: 1000; Percent complete: 50.0%; Average loss: 0.6747\n",
            "Iteration: 2000; Percent complete: 100.0%; Average loss: 0.1002\n",
            "CPU times: user 2min 45s, sys: 46.5 s, total: 3min 32s\n",
            "Wall time: 3min 36s\n"
          ],
          "name": "stdout"
        },
        {
          "output_type": "display_data",
          "data": {
            "image/png": "[encoded data removed]",
            "text/plain": [
              "<Figure size 432x288 with 1 Axes>"
            ]
          },
          "metadata": {
            "tags": [],
            "needs_background": "light"
          }
        }
      ]
    },
    {
      "cell_type": "code",
      "metadata": {
        "id": "7azFPIrab65Q",
        "colab": {
          "base_uri": "https://localhost:8080/",
          "height": 268
        },
        "outputId": "1c4c8315-69d8-482e-98d6-6cbd6ab93df3"
      },
      "source": [
        "loss_log['seq2seq'] = loss_log[corpus_name]\n",
        "loss_log.pop(corpus_name)\n",
        "\n",
        "#tres metodos de tratar la puntuacion, entrenado por 14 \"epochs\" con 4e4 y 2 con 4e5\n",
        "l = list(loss_log.keys())\n",
        "for k,v in loss_log.items():\n",
        "    plot_loss(v)\n",
        "    plt.gca().legend(l)\n",
        "\n",
        "#next\n",
        "#test y subir modelo?\n",
        "#guardar tiempo 10epochs y num params\n",
        "#grafico de loss escalado a tiempo, y scatter plt de loss at 10 y num of params\n",
        "#implement outputs layers\n",
        "\n",
        "#train with simple punct\n",
        "#reduce data to see how affect to training. smaller data faster training(worse generaliaztion but useful to do test runs)"
      ],
      "execution_count": null,
      "outputs": [
        {
          "output_type": "display_data",
          "data": {
            "image/png": "[encoded data removed]",
            "text/plain": [
              "<Figure size 432x288 with 1 Axes>"
            ]
          },
          "metadata": {
            "tags": [],
            "needs_background": "light"
          }
        }
      ]
    },
    {
      "cell_type": "markdown",
      "metadata": {
        "id": "BIN2vJoJcRWv"
      },
      "source": [
        "### Eval"
      ]
    },
    {
      "cell_type": "code",
      "metadata": {
        "id": "CP41hy11bOw4"
      },
      "source": [
        "import re\n",
        "from pre_processing import process_punct, indexesFromSentence\n",
        "\n",
        "def custom_capitalize(s):\n",
        "    for i, c in enumerate(s):\n",
        "        if c.isalpha():\n",
        "            break\n",
        "    return s[:i] + s[i:].capitalize()\n",
        "\n",
        "\n",
        "def reformatString(l):\n",
        "    s = l.strip().lower()\n",
        "#     s = re.sub(r\"<guion_inic>\",r\"\", s)\n",
        "    s = re.sub(r\"\\s+([.!?])\", r\"\\1\", s)\n",
        "    s = re.sub(r\"([¡¿])\\s+\", r\"\\1\", s)\n",
        "    s = re.sub(r\"\\s+\", r\" \", s)\n",
        "    return custom_capitalize(s).strip()\n",
        "\n",
        "class GreedySearchDecoder(nn.Module):\n",
        "    def __init__(self, encoder, decoder):\n",
        "        super(GreedySearchDecoder, self).__init__()\n",
        "        self.encoder = encoder\n",
        "        self.decoder = decoder\n",
        "\n",
        "    def forward(self, input_seq, input_length, max_length):\n",
        "        # Forward input through encoder model\n",
        "        encoder_outputs, encoder_hidden = self.encoder(input_seq, input_length)\n",
        "        # Prepare encoder's final hidden layer to be first hidden input to the decoder\n",
        "        decoder_hidden = encoder_hidden[:decoder.n_layers]\n",
        "        # Initialize decoder input with SOS_token\n",
        "        decoder_input = torch.ones(1, 1, device=device, dtype=torch.long) * SOS_token\n",
        "        # Initialize tensors to append decoded words to\n",
        "        all_tokens = torch.zeros([0], device=device, dtype=torch.long)\n",
        "        all_scores = torch.zeros([0], device=device)\n",
        "        # Iteratively decode one word token at a time\n",
        "        for _ in range(max_length):\n",
        "            # Forward pass through decoder\n",
        "            decoder_output, decoder_hidden = self.decoder(decoder_input, decoder_hidden, encoder_outputs)\n",
        "            # Obtain most likely word token and its softmax score\n",
        "            decoder_scores, decoder_input = torch.max(decoder_output, dim=1)\n",
        "            # Record token and score\n",
        "            all_tokens = torch.cat((all_tokens, decoder_input), dim=0)\n",
        "            all_scores = torch.cat((all_scores, decoder_scores), dim=0)\n",
        "            # Prepare current token to be next decoder input (add a dimension)\n",
        "            decoder_input = torch.unsqueeze(decoder_input, 0)\n",
        "        # Return collections of word tokens and scores\n",
        "        return all_tokens, all_scores\n",
        "\n",
        "def evaluate(encoder, decoder, searcher, voc, sentence, max_length=MAX_LENGTH):\n",
        "    ### Format input sentence as a batch\n",
        "    # words -> indexes\n",
        "    sentence = sentence.split()\n",
        "    indexes_batch = [indexesFromSentence(sentence, voc)]\n",
        "    # Create lengths tensor\n",
        "    lengths = torch.tensor([len(indexes) for indexes in indexes_batch])\n",
        "    # Transpose dimensions of batch to match models' expectations\n",
        "    input_batch = torch.LongTensor(indexes_batch).transpose(0, 1)\n",
        "    # Use appropriate device\n",
        "    input_batch = input_batch.to(device)\n",
        "    lengths = lengths.to(device)\n",
        "    # Decode sentence with searcher\n",
        "    tokens, scores = searcher(input_batch, lengths, max_length)\n",
        "    # indexes -> words\n",
        "    decoded_words = [voc.index2word[token.item()] for token in tokens]\n",
        "    return decoded_words\n",
        "\n",
        "\n",
        "def evaluateInput(encoder, decoder, searcher, voc):\n",
        "    input_sentence = ''\n",
        "    while(1):\n",
        "        try:\n",
        "            # Get input sentence\n",
        "            input_sentence = input('> ')\n",
        "            # Check if it is quit case\n",
        "            if input_sentence == 'q' or input_sentence == 'quit': break\n",
        "            # Normalize sentence\n",
        "#             input_sentence = \"-\"+input_sentence #para que siga el formato de guiones de una conversacion\n",
        "            input_sentence = process_punct(input_sentence.encode())\n",
        "            # Evaluate sentence\n",
        "            output_words = evaluate(encoder, decoder, searcher, voc, input_sentence)\n",
        "            # Format and print response sentence\n",
        "            output_words[:] = [x for x in output_words if not (x == 'EOS' or x == 'PAD')]\n",
        "            raw_ans = ' '.join(output_words)\n",
        "            ans = reformatString(raw_ans)\n",
        "            print('Bot:',ans)\n",
        "\n",
        "        except KeyError:\n",
        "            print(\"Error: Encountered unknown word.\")"
      ],
      "execution_count": null,
      "outputs": []
    },
    {
      "cell_type": "code",
      "metadata": {
        "id": "IRMFm2c4cTdQ",
        "colab": {
          "base_uri": "https://localhost:8080/"
        },
        "outputId": "e4262882-463e-4db9-e889-2cc729edd787"
      },
      "source": [
        "# Set dropout layers to eval mode\n",
        "encoder.eval()\n",
        "decoder.eval()\n",
        "\n",
        "# Initialize search module\n",
        "searcher = GreedySearchDecoder(encoder, decoder)\n",
        "\n",
        "# Begin chatting (uncomment and run the following line to begin)\n",
        "evaluateInput(encoder, decoder, searcher, voc)"
      ],
      "execution_count": null,
      "outputs": [
        {
          "output_type": "stream",
          "text": [
            "> hola\n",
            "Bot: Hola....................\n",
            "> que tal\n",
            "Bot: De acuerdo...................\n",
            "> como esta todo\n",
            "Bot: ¿Qué? sargento cutter? guau...............\n",
            "> yo no soy\n",
            "Bot: Ahí está...................\n",
            "> y tu?\n",
            "Bot: Vamos....................\n",
            "> a donde?\n",
            "Bot: Cutter....................\n",
            "> ya es viernes\n",
            "Bot: Sí....................\n",
            "> la noche esta tranquila\n",
            "Bot: ¿Para qué??................\n",
            "> para dormir\n",
            "Bot: Gracias sahib................\n",
            "> quien eres?\n",
            "Bot: Y eso es todo..................\n",
            "> me caes mal\n",
            "Bot: ¡Sargento ballantine! mío.............\n",
            "> no te entiendo\n",
            "Bot: No...............\n",
            "> sabes decir algo?\n",
            "Bot: Eso es...................\n",
            "> nos vemos\n",
            "Bot: ¿Nos??................\n",
            "> tu no\n",
            "Bot: ¡En serio!.................\n",
            "> solo yo\n",
            "Bot: Ya esta...................\n"
          ],
          "name": "stdout"
        }
      ]
    },
    {
      "cell_type": "code",
      "metadata": {
        "id": "RJhPhXmBcTgi"
      },
      "source": [
        "### Discusión"
      ],
      "execution_count": null,
      "outputs": []
    },
    {
      "cell_type": "markdown",
      "metadata": {
        "id": "XvR4cKeMUo7S"
      },
      "source": [
        "### Discusión\n",
        "Por cuestión de tiempo se tuvo que recortar el tamañó de los datos de entrenamiento y el número de iteracciones al entrenar. Sin embargo, el chatbot parece funcionar relativamente bien, en muchos casos no responde coherentemente, pero en preguntas sencillas con respuestas de si o no logra responder bien.\n",
        "\n",
        "Considero que el entrenamiento todavía puede mejorar bastante al considerar el corpus completo y el modelo de atención puede ayudar mucho a dar contexto a lo que se pregunta y se responde, más que el producto punto que se usaba antes como score."
      ]
    },
    {
      "cell_type": "code",
      "metadata": {
        "id": "UvYXqwNKcTmR"
      },
      "source": [
        "> hola\n",
        "Bot: Hola....................\n",
        "> que tal\n",
        "Bot: De acuerdo...................\n",
        "> como esta todo\n",
        "Bot: ¿Qué? sargento cutter? guau...............\n",
        "> yo no soy\n",
        "Bot: Ahí está...................\n",
        "> y tu?\n",
        "Bot: Vamos....................\n",
        "> a donde?\n",
        "Bot: Cutter....................\n",
        "> ya es viernes\n",
        "Bot: Sí....................\n",
        "> la noche esta tranquila\n",
        "Bot: ¿Para qué??................\n",
        "> para dormir\n",
        "Bot: Gracias sahib................\n",
        "> quien eres?\n",
        "Bot: Y eso es todo..................\n",
        "> me caes mal\n",
        "Bot: ¡Sargento ballantine! mío.............\n",
        "> no te entiendo\n",
        "Bot: No...............\n",
        "> sabes decir algo?\n",
        "Bot: Eso es...................\n",
        "> nos vemos\n",
        "Bot: ¿Nos??................\n",
        "> tu no\n",
        "Bot: ¡En serio!.................\n",
        "> solo yo\n",
        "Bot: Ya esta..................."
      ],
      "execution_count": null,
      "outputs": []
    },
    {
      "cell_type": "code",
      "metadata": {
        "id": "7oQX-JzGcTrY"
      },
      "source": [
        ""
      ],
      "execution_count": null,
      "outputs": []
    },
    {
      "cell_type": "code",
      "metadata": {
        "id": "4sywPEd6cTkI"
      },
      "source": [
        ""
      ],
      "execution_count": null,
      "outputs": []
    }
  ]
}